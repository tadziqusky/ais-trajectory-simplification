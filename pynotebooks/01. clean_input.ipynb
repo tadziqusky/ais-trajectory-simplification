{
 "cells": [
  {
   "cell_type": "code",
   "execution_count": 4,
   "metadata": {},
   "outputs": [],
   "source": [
    "import sys\n",
    "sys.path.append('../')\n",
    "\n",
    "import pandas as pd\n",
    "\n",
    "from ais_trajectory_simplification.cleaning.next_better_trajectory_cleaner import NextBetterTrajectoryCleaner\n",
    "from ais_trajectory_simplification.simplification.downsampling_simplificator import DownsamplingSimplificator"
   ]
  },
  {
   "cell_type": "code",
   "execution_count": 5,
   "metadata": {},
   "outputs": [],
   "source": [
    "def clean_trajectory(pdf: pd.DataFrame):\n",
    "    #clean\n",
    "    TrajectoryCleaner = NextBetterTrajectoryCleaner(pdf, acceleration_limit_kn_s=0.4)\n",
    "    cleaned_pdf = TrajectoryCleaner.clean_trajectory()\n",
    "    \n",
    "    # down-sample to every 10 min\n",
    "    downsampling_simplificator = DownsamplingSimplificator(cleaned_pdf)\n",
    "    downsampled_pdf = downsampling_simplificator.simplify_trajectory(600)\n",
    "    return downsampled_pdf"
   ]
  },
  {
   "cell_type": "code",
   "execution_count": 6,
   "metadata": {},
   "outputs": [],
   "source": [
    "sample_ship_pdf = pd.read_csv('../data/raw/sample_ship.csv')\n",
    "cleaned_pdf = sample_ship_pdf.groupby('mmsi').apply(clean_trajectory)\n",
    "cleaned_pdf = cleaned_pdf.drop(columns=['level_0'])\n",
    "cleaned_pdf.to_csv('../data/processed/cleaned.csv', index=False)"
   ]
  },
  {
   "cell_type": "code",
   "execution_count": null,
   "metadata": {},
   "outputs": [],
   "source": []
  }
 ],
 "metadata": {
  "kernelspec": {
   "display_name": "base",
   "language": "python",
   "name": "python3"
  },
  "language_info": {
   "codemirror_mode": {
    "name": "ipython",
    "version": 3
   },
   "file_extension": ".py",
   "mimetype": "text/x-python",
   "name": "python",
   "nbconvert_exporter": "python",
   "pygments_lexer": "ipython3",
   "version": "3.9.5"
  },
  "orig_nbformat": 4,
  "vscode": {
   "interpreter": {
    "hash": "6ee9271c9fbcc23c3fb7efa749eb38863c648dc16a4711c6cc59193071d6716c"
   }
  }
 },
 "nbformat": 4,
 "nbformat_minor": 2
}
